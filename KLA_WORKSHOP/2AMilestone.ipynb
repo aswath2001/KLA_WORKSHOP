{
 "cells": [
  {
   "cell_type": "code",
   "execution_count": null,
   "metadata": {},
   "outputs": [],
   "source": [
    "!python --version"
   ]
  },
  {
   "cell_type": "code",
   "execution_count": 59,
   "metadata": {},
   "outputs": [],
   "source": [
    "import pandas as pd"
   ]
  },
  {
   "cell_type": "code",
   "execution_count": 60,
   "metadata": {},
   "outputs": [],
   "source": [
    "import yaml"
   ]
  },
  {
   "cell_type": "code",
   "execution_count": 61,
   "metadata": {},
   "outputs": [],
   "source": [
    "import time"
   ]
  },
  {
   "cell_type": "code",
   "execution_count": 62,
   "metadata": {},
   "outputs": [],
   "source": [
    "from datetime import datetime"
   ]
  },
  {
   "cell_type": "code",
   "execution_count": 63,
   "metadata": {},
   "outputs": [
    {
     "name": "stdout",
     "output_type": "stream",
     "text": [
      "2022-03-08 16:28:03.940280\n"
     ]
    }
   ],
   "source": [
    "print(datetime.now())"
   ]
  },
  {
   "cell_type": "code",
   "execution_count": 64,
   "metadata": {},
   "outputs": [],
   "source": [
    "f = open(\"Milestone2A_Log.txt\", \"w\")"
   ]
  },
  {
   "cell_type": "code",
   "execution_count": 65,
   "metadata": {},
   "outputs": [
    {
     "name": "stdout",
     "output_type": "stream",
     "text": [
      "2022-03-08 16:28:04.176843\n"
     ]
    }
   ],
   "source": [
    "#opening in yaml\n",
    "data =\"\"\n",
    "with open('Milestone2\\MileStone2A.yaml') as file:\n",
    "    content = yaml.safe_load_all(file)\n",
    "    data=next(content)\n",
    "print(datetime.now())\n",
    "f.write(f\"{datetime.now()};M2A_Workflow Entry \\n\")\n",
    "main_flow = data['M2A_Workflow']"
   ]
  },
  {
   "cell_type": "code",
   "execution_count": 66,
   "metadata": {},
   "outputs": [],
   "source": [
    "#execting time function\n",
    "def TimeFunction(inputs,path,task,condition):\n",
    "    lock.acquire()\n",
    "    print(condition)\n",
    "    #cond = \"\"\n",
    "    if(len(condition)>0):\n",
    "        s=condition[2:len(condition)-5]\n",
    "        print(s)\n",
    "        print(returnDict[s])\n",
    "        \n",
    "        num = eval(condition[len(condition)-1])\n",
    "        if(condition[len(condition)-3] == '>'):\n",
    "            \n",
    "            if returnDict[s]>num:\n",
    "                print(\"true\")\n",
    "            else:\n",
    "                print(path+\" skipped\")\n",
    "                f.write(f\"{datetime.now()};{path} Skipped \\n\")\n",
    "                f.write(f\"{datetime.now()};{path} Exit \\n\")\n",
    "                print(\"false\")\n",
    "                lock.release()\n",
    "                return\n",
    "        elif condition[len(condition)-3] == '<':\n",
    "            if(returnDict[s]<num):\n",
    "                print(\"true\")\n",
    "            else:\n",
    "                print(path+\" skipped\")\n",
    "                f.write(f\"{datetime.now()};{path} Skipped \\n\")\n",
    "                f.write(f\"{datetime.now()};{path} Exit \\n\")\n",
    "                print(\"false\")\n",
    "                lock.release()\n",
    "                return\n",
    "        #cond = eval(s1)\n",
    "        #print(cond)\n",
    "        #cond = eval(s1)\n",
    "        #if cond:\n",
    "         #   print(\"true\")\n",
    "        #else:\n",
    "         #   print(\"false\")\n",
    "    f.write(f\"{datetime.now()};{path} Executing TimeFunction ({inputs['FunctionInput']},{inputs['ExecutionTime']}) \\n\")\n",
    "    #print(execution_time)\n",
    "    print(\"executing ......\")\n",
    "    time.sleep(int(inputs['ExecutionTime']))\n",
    "    print(\"done...\")\n",
    "    if(len(task) == 0):\n",
    "        f.write(f\"{datetime.now()};{path} Exit \\n\")\n",
    "    else:\n",
    "        f.write(f\"{datetime.now()};{path}.{task} Exit \\n\")\n",
    "    lock.release()"
   ]
  },
  {
   "cell_type": "code",
   "execution_count": 67,
   "metadata": {},
   "outputs": [],
   "source": [
    "def DataLoad(inputs,path,task,condition):\n",
    "    lock.acquire()\n",
    "    print(condition)\n",
    "    #cond=\"\"\n",
    "    if(len(condition)>0):\n",
    "        s=condition[2:len(condition)-5]\n",
    "        #cond = eval(s1)\n",
    "        print(s)\n",
    "        print(returnDict[s])\n",
    "        num = eval(condition[len(condition)-1])\n",
    "        if(condition[len(condition)-3] == '>'):\n",
    "            \n",
    "            if returnDict[s]>num:\n",
    "                print(\"true\")\n",
    "            else:\n",
    "                print(path+\" skipped\")\n",
    "                f.write(f\"{datetime.now()};{path} Skipped \\n\")\n",
    "                f.write(f\"{datetime.now()};{path} Exit \\n\")\n",
    "                print(\"false\")\n",
    "                lock.release()\n",
    "                return \n",
    "        elif condition[len(condition)-3] == '<':\n",
    "            if(returnDict[s]<num):\n",
    "                print(\"true\")\n",
    "            else:\n",
    "                print(path+\" skipped\")\n",
    "                f.write(f\"{datetime.now()};{path} Skipped \\n\")\n",
    "                f.write(f\"{datetime.now()};{path} Exit \\n\")\n",
    "                print(\"false\")\n",
    "                lock.release()\n",
    "                return \n",
    "        #cond = eval(s1)\n",
    "        #print(cond)\n",
    "        #if cond:\n",
    "          #  print(\"true\")\n",
    "        #else:\n",
    "           # print(\"false\")\n",
    "    print(inputs['Filename'])\n",
    "    f.write(f\"{datetime.now()};{path} Executing DataLoad ({inputs['Filename']}) \\n\")\n",
    "    df = pd.read_csv(f\"Milestone2\\{inputs['Filename']}\")\n",
    "    if(len(task) == 0):\n",
    "        f.write(f\"{datetime.now()};{path} Exit \\n\")\n",
    "    else:\n",
    "        f.write(f\"{datetime.now()};{path}.{task} Exit \\n\")\n",
    "    print(\"done.....\")\n",
    "    lock.release()\n",
    "    \n",
    "    return df,len(df)\n",
    "    "
   ]
  },
  {
   "cell_type": "code",
   "execution_count": 68,
   "metadata": {},
   "outputs": [],
   "source": [
    "import threading"
   ]
  },
  {
   "cell_type": "code",
   "execution_count": 69,
   "metadata": {},
   "outputs": [],
   "source": [
    "lock = threading.Lock()"
   ]
  },
  {
   "cell_type": "code",
   "execution_count": 70,
   "metadata": {},
   "outputs": [],
   "source": [
    "returnDict = {}"
   ]
  },
  {
   "cell_type": "code",
   "execution_count": 71,
   "metadata": {},
   "outputs": [],
   "source": [
    "#for each task\n",
    "def activity(activities,task,path):\n",
    "    \n",
    "    f.write(f\"{datetime.now()};{path}.{task} Entry \\n\")\n",
    "    print(task+\"........\")\n",
    "    if(activities[task]['Type'] == 'Task'):\n",
    "            #print(activities[task],activities[task].get('Condition'))\n",
    "            if activities[task].get('Condition') is None:\n",
    "                condition = \"\"\n",
    "            else:\n",
    "                condition = activities[task]['Condition']\n",
    "                #print(condition)\n",
    "        \n",
    "            fun = eval(activities[task]['Function'])\n",
    "            if activities[task]['Function'] == \"DataLoad\" :\n",
    "                returnDict[path+'.'+task+'.NoOfDefects'] = fun(activities[task]['Inputs'],path+\".\"+task,\"\",condition)[1]\n",
    "            else:\n",
    "                fun(activities[task]['Inputs'],path+\".\"+task,\"\",condition)\n",
    "            #fun(activities[task]['Inputs'],path+\".\"+task,\"\")\n",
    "    elif activities[task]['Type'] == 'Flow':\n",
    "        if activities[task]['Execution'] == 'Sequential':\n",
    "                Sequential(activities[task],path+\".\"+task)\n",
    "        elif activities[task]['Execution'] == 'Concurrent':\n",
    "                Concurrent(activities[task],path+\".\"+task)\n",
    "        f.write(f\"{datetime.now()};{path}.{task} Exit \\n\")\n",
    "    "
   ]
  },
  {
   "cell_type": "code",
   "execution_count": 72,
   "metadata": {},
   "outputs": [],
   "source": [
    "def Concurrent(main_flow,path):\n",
    "    activities = main_flow['Activities']\n",
    "    \n",
    "    thread= []\n",
    "    \n",
    "    for task in activities:\n",
    "        #f.write(f\"{datetime.now()};{path}.{task} Entry \\n\")\n",
    "        t = threading.Thread(target=activity,args=(activities,task,path))\n",
    "        t.start()\n",
    "        thread.append(t)\n",
    "    \n",
    "    for t in thread:\n",
    "        t.join()\n",
    "        "
   ]
  },
  {
   "cell_type": "code",
   "execution_count": 73,
   "metadata": {},
   "outputs": [],
   "source": [
    "def Sequential(main_flow,path):\n",
    "    activities = main_flow['Activities']\n",
    "    #print(main_flow)\n",
    "\n",
    "    for task in activities:\n",
    "        #print(task)\n",
    "        f.write(f\"{datetime.now()};{path}.{task} Entry \\n\")\n",
    "        print(task,\" Entry .......\")\n",
    "\n",
    "        if activities[task]['Type'] == 'Task':\n",
    "            print(activities[task],activities[task].get('Condition'))\n",
    "            if activities[task].get('Condition') is None:\n",
    "                condition = \"\"\n",
    "            else:\n",
    "                condition = activities[task]['Condition']\n",
    "                print(condition)\n",
    "            fun = eval(activities[task]['Function'])\n",
    "            if activities[task]['Function'] == \"DataLoad\" :\n",
    "                print(path+'.'+task+'.NoOfDefects')\n",
    "                returnDict[path+'.'+task+'.NoOfDefects'] = fun(activities[task]['Inputs'],path+\".\"+task,\"\",condition)[1]\n",
    "            else:\n",
    "                fun(activities[task]['Inputs'],path+\".\"+task,\"\",condition)\n",
    "        elif activities[task]['Type'] == 'Flow':\n",
    "            if activities[task]['Execution'] == 'Sequential':\n",
    "                Sequential(activities[task],path+\".\"+task)\n",
    "            elif activities[task]['Execution'] == 'Concurrent':\n",
    "                Concurrent(activities[task],path+\".\"+task)\n",
    "            f.write(f\"{datetime.now()};{path}.{task} Exit \\n\")\n",
    "        \n",
    "        "
   ]
  },
  {
   "cell_type": "code",
   "execution_count": 74,
   "metadata": {},
   "outputs": [
    {
     "name": "stdout",
     "output_type": "stream",
     "text": [
      "TaskA  Entry .......\n",
      "{'Type': 'Task', 'Function': 'DataLoad', 'Inputs': {'Filename': 'Milestone2A_DataInput1.csv'}, 'Outputs': ['DataTable', 'NoOfDefects']} None\n",
      "M2A_Workflow.TaskA.NoOfDefects\n",
      "\n",
      "Milestone2A_DataInput1.csv\n",
      "done.....\n",
      "TaskB  Entry .......\n",
      "{'Type': 'Task', 'Function': 'TimeFunction', 'Inputs': {'FunctionInput': 'TaskB_Input', 'ExecutionTime': '2'}} None\n",
      "\n",
      "executing ......\n",
      "done...\n",
      "FlowA  Entry .......\n",
      "TaskC........TaskD........\n",
      "$(M2A_Workflow.TaskA.NoOfDefects) > 4\n",
      "M2A_Workflow.TaskA.NoOfDefectsFlowB........\n",
      "\n",
      "\n",
      "14\n",
      "true\n",
      "Milestone2A_DataInput2.csv\n",
      "TaskE........\n",
      "done.....\n",
      "TaskF........\n",
      "\n",
      "executing ......\n",
      "done...\n",
      "$(M2A_Workflow.FlowA.TaskC.NoOfDefects) < 6\n",
      "M2A_Workflow.FlowA.TaskC.NoOfDefects\n",
      "10\n",
      "M2A_Workflow.FlowA.FlowB.TaskE skipped\n",
      "false\n",
      "\n",
      "executing ......\n",
      "done...\n"
     ]
    }
   ],
   "source": [
    "if main_flow['Execution'] == 'Sequential':\n",
    "    Sequential(main_flow,\"M2A_Workflow\")\n",
    "    f.write(f\"{datetime.now()};M2A_Workflow Exit\\n\")"
   ]
  },
  {
   "cell_type": "code",
   "execution_count": null,
   "metadata": {},
   "outputs": [],
   "source": []
  },
  {
   "cell_type": "code",
   "execution_count": null,
   "metadata": {},
   "outputs": [],
   "source": []
  },
  {
   "cell_type": "code",
   "execution_count": null,
   "metadata": {},
   "outputs": [],
   "source": []
  },
  {
   "cell_type": "code",
   "execution_count": null,
   "metadata": {},
   "outputs": [],
   "source": []
  },
  {
   "cell_type": "code",
   "execution_count": null,
   "metadata": {},
   "outputs": [],
   "source": []
  }
 ],
 "metadata": {
  "kernelspec": {
   "display_name": "Python 3",
   "language": "python",
   "name": "python3"
  },
  "language_info": {
   "codemirror_mode": {
    "name": "ipython",
    "version": 3
   },
   "file_extension": ".py",
   "mimetype": "text/x-python",
   "name": "python",
   "nbconvert_exporter": "python",
   "pygments_lexer": "ipython3",
   "version": "3.7.4"
  }
 },
 "nbformat": 4,
 "nbformat_minor": 2
}
