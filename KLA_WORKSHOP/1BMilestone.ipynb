{
 "cells": [
  {
   "cell_type": "code",
   "execution_count": 1,
   "metadata": {},
   "outputs": [
    {
     "name": "stdout",
     "output_type": "stream",
     "text": [
      "Python 3.7.4\n"
     ]
    }
   ],
   "source": [
    "!python --version"
   ]
  },
  {
   "cell_type": "code",
   "execution_count": 2,
   "metadata": {},
   "outputs": [],
   "source": [
    "import pandas"
   ]
  },
  {
   "cell_type": "code",
   "execution_count": 3,
   "metadata": {},
   "outputs": [],
   "source": [
    "import yaml"
   ]
  },
  {
   "cell_type": "code",
   "execution_count": 44,
   "metadata": {},
   "outputs": [],
   "source": [
    "import time"
   ]
  },
  {
   "cell_type": "code",
   "execution_count": 67,
   "metadata": {},
   "outputs": [],
   "source": [
    "from datetime import datetime"
   ]
  },
  {
   "cell_type": "code",
   "execution_count": 70,
   "metadata": {},
   "outputs": [
    {
     "name": "stdout",
     "output_type": "stream",
     "text": [
      "2022-03-08 09:44:15.849057\n"
     ]
    }
   ],
   "source": [
    "print(datetime.now())"
   ]
  },
  {
   "cell_type": "code",
   "execution_count": 248,
   "metadata": {},
   "outputs": [],
   "source": [
    "f = open(\"Milestone1B_Log.txt\", \"w\")"
   ]
  },
  {
   "cell_type": "code",
   "execution_count": 249,
   "metadata": {},
   "outputs": [
    {
     "name": "stdout",
     "output_type": "stream",
     "text": [
      "2022-03-08 11:44:37.789941\n"
     ]
    }
   ],
   "source": [
    "#opening in yaml\n",
    "data =\"\"\n",
    "with open('Milestone1\\MileStone1B.yaml') as file:\n",
    "    content = yaml.safe_load_all(file)\n",
    "    data=next(content)\n",
    "print(datetime.now())\n",
    "f.write(f\"{datetime.now()};M1B_Workflow Entry \\n\")\n",
    "main_flow = data['M1B_Workflow']"
   ]
  },
  {
   "cell_type": "code",
   "execution_count": 250,
   "metadata": {},
   "outputs": [],
   "source": [
    "#execting time function\n",
    "def TimeFunction(inputs,path,task):\n",
    "    f.write(f\"{datetime.now()};{path} Executing TimeFunction ({inputs['FunctionInput']},{inputs['ExecutionTime']}) \\n\")\n",
    "    #print(execution_time)\n",
    "    print(\"executing ......\")\n",
    "    time.sleep(int(inputs['ExecutionTime']))\n",
    "    print(\"done...\")\n",
    "    if(len(task) == 0):\n",
    "        f.write(f\"{datetime.now()};{path} Exit \\n\")\n",
    "    else:\n",
    "        f.write(f\"{datetime.now()};{path}.{task} Exit \\n\")\n",
    "    "
   ]
  },
  {
   "cell_type": "code",
   "execution_count": 251,
   "metadata": {},
   "outputs": [],
   "source": [
    "import multithreading"
   ]
  },
  {
   "cell_type": "code",
   "execution_count": 252,
   "metadata": {},
   "outputs": [],
   "source": [
    "#for each task\n",
    "def activity(activities,task,path):\n",
    "    \n",
    "    f.write(f\"{datetime.now()};{path}.{task} Entry \\n\")\n",
    "    print(task+\"........\")\n",
    "    if(activities[task]['Type'] == 'Task'):\n",
    "            fun = eval(activities[task]['Function'])\n",
    "            fun(activities[task]['Inputs'],path+\".\"+task,\"\")\n",
    "    elif activities[task]['Type'] == 'Flow':\n",
    "        if activities[task]['Execution'] == 'Sequential':\n",
    "                Sequential(activities[task],path+\".\"+task)\n",
    "        elif activities[task]['Execution'] == 'Concurrent':\n",
    "                Concurrent(activities[task],path+\".\"+task)\n",
    "        #f.write(f\"{datetime.now()};{path}.{task} Exit \\n\")\n",
    "    "
   ]
  },
  {
   "cell_type": "code",
   "execution_count": 253,
   "metadata": {},
   "outputs": [],
   "source": [
    "def Concurrent(main_flow,path):\n",
    "    activities = main_flow['Activities']\n",
    "    \n",
    "    thread= []\n",
    "    \n",
    "    for task in activities:\n",
    "        #f.write(f\"{datetime.now()};{path}.{task} Entry \\n\")\n",
    "        t = threading.Thread(target=activity,args=(activities,task,path))\n",
    "        t.start()\n",
    "        thread.append(t)\n",
    "    \n",
    "    for t in thread:\n",
    "        t.join()\n",
    "        "
   ]
  },
  {
   "cell_type": "code",
   "execution_count": 254,
   "metadata": {},
   "outputs": [],
   "source": [
    "def Sequential(main_flow,path):\n",
    "    activities = main_flow['Activities']\n",
    "    #print(main_flow)\n",
    "\n",
    "    for task in activities:\n",
    "        #print(task)\n",
    "        f.write(f\"{datetime.now()};{path}.{task} Entry \\n\")\n",
    "        print(task,\" Entry .......\")\n",
    "\n",
    "        if activities[task]['Type'] == 'Task':\n",
    "            fun = eval(activities[task]['Function'])\n",
    "            fun(activities[task]['Inputs'],path+\".\"+task,\"\")\n",
    "        elif activities[task]['Type'] == 'Flow':\n",
    "            if activities[task]['Execution'] == 'Sequential':\n",
    "                Sequential(activities[task],path+\".\"+task)\n",
    "            elif activities[task]['Execution'] == 'Concurrent':\n",
    "                Concurrent(activities[task],path+\".\"+task)\n",
    "            #f.write(f\"{datetime.now()};{path}.{task} Exit \\n\")\n",
    "        \n",
    "        "
   ]
  },
  {
   "cell_type": "code",
   "execution_count": 255,
   "metadata": {},
   "outputs": [
    {
     "name": "stdout",
     "output_type": "stream",
     "text": [
      "TaskA  Entry .......\n",
      "executing ......\n",
      "done...\n",
      "FlowA  Entry .......\n",
      "TaskB........\n",
      "executing ......\n",
      "TaskC........\n",
      "executing ......\n",
      "TaskD........\n",
      "executing ......\n",
      "FlowB........\n",
      "FlowC........TaskE  Entry .......\n",
      "executing ......\n",
      "\n",
      "TaskG  Entry .......\n",
      "executing ......\n",
      "TaskI........\n",
      "executing ......\n",
      "done...\n",
      "TaskH  Entry .......\n",
      "executing ......\n",
      "done...\n",
      "done...done...\n",
      "\n",
      "done...done...\n",
      "TaskF  Entry .......\n",
      "executing ......\n",
      "\n",
      "done...\n",
      "done...\n",
      "TaskZ  Entry .......\n",
      "executing ......\n",
      "done...\n"
     ]
    }
   ],
   "source": [
    "if main_flow['Execution'] == 'Sequential':\n",
    "    Sequential(main_flow,\"M1B_Workflow\")\n",
    "    f.write(f\"{datetime.now()};M1B_Workflow Exit\\n\")"
   ]
  },
  {
   "cell_type": "code",
   "execution_count": null,
   "metadata": {},
   "outputs": [],
   "source": []
  }
 ],
 "metadata": {
  "kernelspec": {
   "display_name": "Python 3",
   "language": "python",
   "name": "python3"
  },
  "language_info": {
   "codemirror_mode": {
    "name": "ipython",
    "version": 3
   },
   "file_extension": ".py",
   "mimetype": "text/x-python",
   "name": "python",
   "nbconvert_exporter": "python",
   "pygments_lexer": "ipython3",
   "version": "3.7.4"
  }
 },
 "nbformat": 4,
 "nbformat_minor": 2
}
